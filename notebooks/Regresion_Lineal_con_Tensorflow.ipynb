{
  "nbformat": 4,
  "nbformat_minor": 0,
  "metadata": {
    "colab": {
      "provenance": [],
      "gpuType": "T4"
    },
    "kernelspec": {
      "name": "python3",
      "display_name": "Python 3"
    },
    "language_info": {
      "name": "python"
    },
    "accelerator": "GPU"
  },
  "cells": [
    {
      "cell_type": "markdown",
      "source": [
        "## Importar las librerias"
      ],
      "metadata": {
        "id": "e7kS-JGVHciW"
      }
    },
    {
      "cell_type": "code",
      "source": [
        "import tensorflow as tf\n",
        "import pandas as pd\n",
        "import numpy as np\n",
        "from sklearn.datasets import fetch_california_housing\n",
        "from sklearn.model_selection import train_test_split"
      ],
      "metadata": {
        "id": "N07KR1G8eiaZ"
      },
      "execution_count": 52,
      "outputs": []
    },
    {
      "cell_type": "markdown",
      "source": [
        "## Cargar el Dataset"
      ],
      "metadata": {
        "id": "ZVYlZLBLHjsN"
      }
    },
    {
      "cell_type": "code",
      "source": [
        "raw = fetch_california_housing()\n",
        "X = pd.DataFrame(data=raw['data'], columns=raw['feature_names'])\n",
        "y = pd.Series(raw['target'])"
      ],
      "metadata": {
        "id": "6S2mAUPuhFQR"
      },
      "execution_count": 53,
      "outputs": []
    },
    {
      "cell_type": "markdown",
      "source": [
        "##Preprocesar la data"
      ],
      "metadata": {
        "id": "qmM9P6w-IiQd"
      }
    },
    {
      "cell_type": "code",
      "source": [
        "X.info()"
      ],
      "metadata": {
        "colab": {
          "base_uri": "https://localhost:8080/"
        },
        "id": "j1OQQGoqIeB1",
        "outputId": "e9142678-369e-40d0-d501-a4c1738877db"
      },
      "execution_count": 54,
      "outputs": [
        {
          "output_type": "stream",
          "name": "stdout",
          "text": [
            "<class 'pandas.core.frame.DataFrame'>\n",
            "RangeIndex: 20640 entries, 0 to 20639\n",
            "Data columns (total 8 columns):\n",
            " #   Column      Non-Null Count  Dtype  \n",
            "---  ------      --------------  -----  \n",
            " 0   MedInc      20640 non-null  float64\n",
            " 1   HouseAge    20640 non-null  float64\n",
            " 2   AveRooms    20640 non-null  float64\n",
            " 3   AveBedrms   20640 non-null  float64\n",
            " 4   Population  20640 non-null  float64\n",
            " 5   AveOccup    20640 non-null  float64\n",
            " 6   Latitude    20640 non-null  float64\n",
            " 7   Longitude   20640 non-null  float64\n",
            "dtypes: float64(8)\n",
            "memory usage: 1.3 MB\n"
          ]
        }
      ]
    },
    {
      "cell_type": "code",
      "source": [
        "#Normalizar la data usando la media y la desviacion estandar (X)\n",
        "mean = np.mean(X, axis=0)\n",
        "std = np.std(X, axis=0)\n",
        "norm_X = (X - mean) / std\n",
        "norm_X"
      ],
      "metadata": {
        "colab": {
          "base_uri": "https://localhost:8080/",
          "height": 488
        },
        "id": "745NpDaUIhA9",
        "outputId": "3e49f0eb-ccbb-49aa-d203-faa064bc0d6f"
      },
      "execution_count": 55,
      "outputs": [
        {
          "output_type": "execute_result",
          "data": {
            "text/plain": [
              "         MedInc  HouseAge  AveRooms  AveBedrms  Population  AveOccup  \\\n",
              "0      2.344766  0.982143  0.628559  -0.153758   -0.974429 -0.049597   \n",
              "1      2.332238 -0.607019  0.327041  -0.263336    0.861439 -0.092512   \n",
              "2      1.782699  1.856182  1.155620  -0.049016   -0.820777 -0.025843   \n",
              "3      0.932968  1.856182  0.156966  -0.049833   -0.766028 -0.050329   \n",
              "4     -0.012881  1.856182  0.344711  -0.032906   -0.759847 -0.085616   \n",
              "...         ...       ...       ...        ...         ...       ...   \n",
              "20635 -1.216128 -0.289187 -0.155023   0.077354   -0.512592 -0.049110   \n",
              "20636 -0.691593 -0.845393  0.276881   0.462365   -0.944405  0.005021   \n",
              "20637 -1.142593 -0.924851 -0.090318   0.049414   -0.369537 -0.071735   \n",
              "20638 -1.054583 -0.845393 -0.040211   0.158778   -0.604429 -0.091225   \n",
              "20639 -0.780129 -1.004309 -0.070443   0.138403   -0.033977 -0.043682   \n",
              "\n",
              "       Latitude  Longitude  \n",
              "0      1.052548  -1.327835  \n",
              "1      1.043185  -1.322844  \n",
              "2      1.038503  -1.332827  \n",
              "3      1.038503  -1.337818  \n",
              "4      1.038503  -1.337818  \n",
              "...         ...        ...  \n",
              "20635  1.801647  -0.758826  \n",
              "20636  1.806329  -0.818722  \n",
              "20637  1.778237  -0.823713  \n",
              "20638  1.778237  -0.873626  \n",
              "20639  1.750146  -0.833696  \n",
              "\n",
              "[20640 rows x 8 columns]"
            ],
            "text/html": [
              "\n",
              "\n",
              "  <div id=\"df-16410266-3162-426d-9cfc-680dbc346511\">\n",
              "    <div class=\"colab-df-container\">\n",
              "      <div>\n",
              "<style scoped>\n",
              "    .dataframe tbody tr th:only-of-type {\n",
              "        vertical-align: middle;\n",
              "    }\n",
              "\n",
              "    .dataframe tbody tr th {\n",
              "        vertical-align: top;\n",
              "    }\n",
              "\n",
              "    .dataframe thead th {\n",
              "        text-align: right;\n",
              "    }\n",
              "</style>\n",
              "<table border=\"1\" class=\"dataframe\">\n",
              "  <thead>\n",
              "    <tr style=\"text-align: right;\">\n",
              "      <th></th>\n",
              "      <th>MedInc</th>\n",
              "      <th>HouseAge</th>\n",
              "      <th>AveRooms</th>\n",
              "      <th>AveBedrms</th>\n",
              "      <th>Population</th>\n",
              "      <th>AveOccup</th>\n",
              "      <th>Latitude</th>\n",
              "      <th>Longitude</th>\n",
              "    </tr>\n",
              "  </thead>\n",
              "  <tbody>\n",
              "    <tr>\n",
              "      <th>0</th>\n",
              "      <td>2.344766</td>\n",
              "      <td>0.982143</td>\n",
              "      <td>0.628559</td>\n",
              "      <td>-0.153758</td>\n",
              "      <td>-0.974429</td>\n",
              "      <td>-0.049597</td>\n",
              "      <td>1.052548</td>\n",
              "      <td>-1.327835</td>\n",
              "    </tr>\n",
              "    <tr>\n",
              "      <th>1</th>\n",
              "      <td>2.332238</td>\n",
              "      <td>-0.607019</td>\n",
              "      <td>0.327041</td>\n",
              "      <td>-0.263336</td>\n",
              "      <td>0.861439</td>\n",
              "      <td>-0.092512</td>\n",
              "      <td>1.043185</td>\n",
              "      <td>-1.322844</td>\n",
              "    </tr>\n",
              "    <tr>\n",
              "      <th>2</th>\n",
              "      <td>1.782699</td>\n",
              "      <td>1.856182</td>\n",
              "      <td>1.155620</td>\n",
              "      <td>-0.049016</td>\n",
              "      <td>-0.820777</td>\n",
              "      <td>-0.025843</td>\n",
              "      <td>1.038503</td>\n",
              "      <td>-1.332827</td>\n",
              "    </tr>\n",
              "    <tr>\n",
              "      <th>3</th>\n",
              "      <td>0.932968</td>\n",
              "      <td>1.856182</td>\n",
              "      <td>0.156966</td>\n",
              "      <td>-0.049833</td>\n",
              "      <td>-0.766028</td>\n",
              "      <td>-0.050329</td>\n",
              "      <td>1.038503</td>\n",
              "      <td>-1.337818</td>\n",
              "    </tr>\n",
              "    <tr>\n",
              "      <th>4</th>\n",
              "      <td>-0.012881</td>\n",
              "      <td>1.856182</td>\n",
              "      <td>0.344711</td>\n",
              "      <td>-0.032906</td>\n",
              "      <td>-0.759847</td>\n",
              "      <td>-0.085616</td>\n",
              "      <td>1.038503</td>\n",
              "      <td>-1.337818</td>\n",
              "    </tr>\n",
              "    <tr>\n",
              "      <th>...</th>\n",
              "      <td>...</td>\n",
              "      <td>...</td>\n",
              "      <td>...</td>\n",
              "      <td>...</td>\n",
              "      <td>...</td>\n",
              "      <td>...</td>\n",
              "      <td>...</td>\n",
              "      <td>...</td>\n",
              "    </tr>\n",
              "    <tr>\n",
              "      <th>20635</th>\n",
              "      <td>-1.216128</td>\n",
              "      <td>-0.289187</td>\n",
              "      <td>-0.155023</td>\n",
              "      <td>0.077354</td>\n",
              "      <td>-0.512592</td>\n",
              "      <td>-0.049110</td>\n",
              "      <td>1.801647</td>\n",
              "      <td>-0.758826</td>\n",
              "    </tr>\n",
              "    <tr>\n",
              "      <th>20636</th>\n",
              "      <td>-0.691593</td>\n",
              "      <td>-0.845393</td>\n",
              "      <td>0.276881</td>\n",
              "      <td>0.462365</td>\n",
              "      <td>-0.944405</td>\n",
              "      <td>0.005021</td>\n",
              "      <td>1.806329</td>\n",
              "      <td>-0.818722</td>\n",
              "    </tr>\n",
              "    <tr>\n",
              "      <th>20637</th>\n",
              "      <td>-1.142593</td>\n",
              "      <td>-0.924851</td>\n",
              "      <td>-0.090318</td>\n",
              "      <td>0.049414</td>\n",
              "      <td>-0.369537</td>\n",
              "      <td>-0.071735</td>\n",
              "      <td>1.778237</td>\n",
              "      <td>-0.823713</td>\n",
              "    </tr>\n",
              "    <tr>\n",
              "      <th>20638</th>\n",
              "      <td>-1.054583</td>\n",
              "      <td>-0.845393</td>\n",
              "      <td>-0.040211</td>\n",
              "      <td>0.158778</td>\n",
              "      <td>-0.604429</td>\n",
              "      <td>-0.091225</td>\n",
              "      <td>1.778237</td>\n",
              "      <td>-0.873626</td>\n",
              "    </tr>\n",
              "    <tr>\n",
              "      <th>20639</th>\n",
              "      <td>-0.780129</td>\n",
              "      <td>-1.004309</td>\n",
              "      <td>-0.070443</td>\n",
              "      <td>0.138403</td>\n",
              "      <td>-0.033977</td>\n",
              "      <td>-0.043682</td>\n",
              "      <td>1.750146</td>\n",
              "      <td>-0.833696</td>\n",
              "    </tr>\n",
              "  </tbody>\n",
              "</table>\n",
              "<p>20640 rows × 8 columns</p>\n",
              "</div>\n",
              "      <button class=\"colab-df-convert\" onclick=\"convertToInteractive('df-16410266-3162-426d-9cfc-680dbc346511')\"\n",
              "              title=\"Convert this dataframe to an interactive table.\"\n",
              "              style=\"display:none;\">\n",
              "\n",
              "  <svg xmlns=\"http://www.w3.org/2000/svg\" height=\"24px\"viewBox=\"0 0 24 24\"\n",
              "       width=\"24px\">\n",
              "    <path d=\"M0 0h24v24H0V0z\" fill=\"none\"/>\n",
              "    <path d=\"M18.56 5.44l.94 2.06.94-2.06 2.06-.94-2.06-.94-.94-2.06-.94 2.06-2.06.94zm-11 1L8.5 8.5l.94-2.06 2.06-.94-2.06-.94L8.5 2.5l-.94 2.06-2.06.94zm10 10l.94 2.06.94-2.06 2.06-.94-2.06-.94-.94-2.06-.94 2.06-2.06.94z\"/><path d=\"M17.41 7.96l-1.37-1.37c-.4-.4-.92-.59-1.43-.59-.52 0-1.04.2-1.43.59L10.3 9.45l-7.72 7.72c-.78.78-.78 2.05 0 2.83L4 21.41c.39.39.9.59 1.41.59.51 0 1.02-.2 1.41-.59l7.78-7.78 2.81-2.81c.8-.78.8-2.07 0-2.86zM5.41 20L4 18.59l7.72-7.72 1.47 1.35L5.41 20z\"/>\n",
              "  </svg>\n",
              "      </button>\n",
              "\n",
              "\n",
              "\n",
              "    <div id=\"df-c129e6c1-3238-4ef0-b30a-33d2d18ba0b3\">\n",
              "      <button class=\"colab-df-quickchart\" onclick=\"quickchart('df-c129e6c1-3238-4ef0-b30a-33d2d18ba0b3')\"\n",
              "              title=\"Suggest charts.\"\n",
              "              style=\"display:none;\">\n",
              "\n",
              "<svg xmlns=\"http://www.w3.org/2000/svg\" height=\"24px\"viewBox=\"0 0 24 24\"\n",
              "     width=\"24px\">\n",
              "    <g>\n",
              "        <path d=\"M19 3H5c-1.1 0-2 .9-2 2v14c0 1.1.9 2 2 2h14c1.1 0 2-.9 2-2V5c0-1.1-.9-2-2-2zM9 17H7v-7h2v7zm4 0h-2V7h2v10zm4 0h-2v-4h2v4z\"/>\n",
              "    </g>\n",
              "</svg>\n",
              "      </button>\n",
              "    </div>\n",
              "\n",
              "<style>\n",
              "  .colab-df-quickchart {\n",
              "    background-color: #E8F0FE;\n",
              "    border: none;\n",
              "    border-radius: 50%;\n",
              "    cursor: pointer;\n",
              "    display: none;\n",
              "    fill: #1967D2;\n",
              "    height: 32px;\n",
              "    padding: 0 0 0 0;\n",
              "    width: 32px;\n",
              "  }\n",
              "\n",
              "  .colab-df-quickchart:hover {\n",
              "    background-color: #E2EBFA;\n",
              "    box-shadow: 0px 1px 2px rgba(60, 64, 67, 0.3), 0px 1px 3px 1px rgba(60, 64, 67, 0.15);\n",
              "    fill: #174EA6;\n",
              "  }\n",
              "\n",
              "  [theme=dark] .colab-df-quickchart {\n",
              "    background-color: #3B4455;\n",
              "    fill: #D2E3FC;\n",
              "  }\n",
              "\n",
              "  [theme=dark] .colab-df-quickchart:hover {\n",
              "    background-color: #434B5C;\n",
              "    box-shadow: 0px 1px 3px 1px rgba(0, 0, 0, 0.15);\n",
              "    filter: drop-shadow(0px 1px 2px rgba(0, 0, 0, 0.3));\n",
              "    fill: #FFFFFF;\n",
              "  }\n",
              "</style>\n",
              "\n",
              "    <script>\n",
              "      async function quickchart(key) {\n",
              "        const containerElement = document.querySelector('#' + key);\n",
              "        const charts = await google.colab.kernel.invokeFunction(\n",
              "            'suggestCharts', [key], {});\n",
              "      }\n",
              "    </script>\n",
              "\n",
              "      <script>\n",
              "\n",
              "function displayQuickchartButton(domScope) {\n",
              "  let quickchartButtonEl =\n",
              "    domScope.querySelector('#df-c129e6c1-3238-4ef0-b30a-33d2d18ba0b3 button.colab-df-quickchart');\n",
              "  quickchartButtonEl.style.display =\n",
              "    google.colab.kernel.accessAllowed ? 'block' : 'none';\n",
              "}\n",
              "\n",
              "        displayQuickchartButton(document);\n",
              "      </script>\n",
              "      <style>\n",
              "    .colab-df-container {\n",
              "      display:flex;\n",
              "      flex-wrap:wrap;\n",
              "      gap: 12px;\n",
              "    }\n",
              "\n",
              "    .colab-df-convert {\n",
              "      background-color: #E8F0FE;\n",
              "      border: none;\n",
              "      border-radius: 50%;\n",
              "      cursor: pointer;\n",
              "      display: none;\n",
              "      fill: #1967D2;\n",
              "      height: 32px;\n",
              "      padding: 0 0 0 0;\n",
              "      width: 32px;\n",
              "    }\n",
              "\n",
              "    .colab-df-convert:hover {\n",
              "      background-color: #E2EBFA;\n",
              "      box-shadow: 0px 1px 2px rgba(60, 64, 67, 0.3), 0px 1px 3px 1px rgba(60, 64, 67, 0.15);\n",
              "      fill: #174EA6;\n",
              "    }\n",
              "\n",
              "    [theme=dark] .colab-df-convert {\n",
              "      background-color: #3B4455;\n",
              "      fill: #D2E3FC;\n",
              "    }\n",
              "\n",
              "    [theme=dark] .colab-df-convert:hover {\n",
              "      background-color: #434B5C;\n",
              "      box-shadow: 0px 1px 3px 1px rgba(0, 0, 0, 0.15);\n",
              "      filter: drop-shadow(0px 1px 2px rgba(0, 0, 0, 0.3));\n",
              "      fill: #FFFFFF;\n",
              "    }\n",
              "  </style>\n",
              "\n",
              "      <script>\n",
              "        const buttonEl =\n",
              "          document.querySelector('#df-16410266-3162-426d-9cfc-680dbc346511 button.colab-df-convert');\n",
              "        buttonEl.style.display =\n",
              "          google.colab.kernel.accessAllowed ? 'block' : 'none';\n",
              "\n",
              "        async function convertToInteractive(key) {\n",
              "          const element = document.querySelector('#df-16410266-3162-426d-9cfc-680dbc346511');\n",
              "          const dataTable =\n",
              "            await google.colab.kernel.invokeFunction('convertToInteractive',\n",
              "                                                     [key], {});\n",
              "          if (!dataTable) return;\n",
              "\n",
              "          const docLinkHtml = 'Like what you see? Visit the ' +\n",
              "            '<a target=\"_blank\" href=https://colab.research.google.com/notebooks/data_table.ipynb>data table notebook</a>'\n",
              "            + ' to learn more about interactive tables.';\n",
              "          element.innerHTML = '';\n",
              "          dataTable['output_type'] = 'display_data';\n",
              "          await google.colab.output.renderOutput(dataTable, element);\n",
              "          const docLink = document.createElement('div');\n",
              "          docLink.innerHTML = docLinkHtml;\n",
              "          element.appendChild(docLink);\n",
              "        }\n",
              "      </script>\n",
              "    </div>\n",
              "  </div>\n"
            ]
          },
          "metadata": {},
          "execution_count": 55
        }
      ]
    },
    {
      "cell_type": "code",
      "source": [
        "#Normalizar la data usando la media y la desviacion estandar (y)\n",
        "mean = np.mean(y, axis=0)\n",
        "std = np.std(y, axis=0)\n",
        "norm_y = (y - mean) / std\n",
        "norm_y"
      ],
      "metadata": {
        "colab": {
          "base_uri": "https://localhost:8080/"
        },
        "id": "oTdIOUPiNBgG",
        "outputId": "24e3e652-9b0b-44aa-8448-6a96df2661fb"
      },
      "execution_count": 56,
      "outputs": [
        {
          "output_type": "execute_result",
          "data": {
            "text/plain": [
              "0        2.129631\n",
              "1        1.314156\n",
              "2        1.258693\n",
              "3        1.165100\n",
              "4        1.172900\n",
              "           ...   \n",
              "20635   -1.115804\n",
              "20636   -1.124470\n",
              "20637   -0.992746\n",
              "20638   -1.058608\n",
              "20639   -1.017878\n",
              "Length: 20640, dtype: float64"
            ]
          },
          "metadata": {},
          "execution_count": 56
        }
      ]
    },
    {
      "cell_type": "code",
      "source": [
        "#Dividir la data en sets de entrenamiento y de testeo (80% y 20%)\n",
        "X_train, x_test, Y_train, y_test = train_test_split(norm_X,norm_y,test_size=0.2,random_state=42)"
      ],
      "metadata": {
        "id": "fkinVegVJ1XF"
      },
      "execution_count": 57,
      "outputs": []
    },
    {
      "cell_type": "markdown",
      "source": [
        "##Defina el TensorFlow Graph"
      ],
      "metadata": {
        "id": "NCSy-yiVK6T9"
      }
    },
    {
      "cell_type": "code",
      "source": [
        "#Crear los placeholder para las entidades de entrada (norm_X) y la variable de destino (norm_y)\n",
        "tf.compat.v1.disable_eager_execution()\n",
        "X_placeholder = tf.compat.v1.placeholder(tf.float32, shape=[None, X_train.shape[1]])\n",
        "y_placeholder = tf.compat.v1.placeholder(tf.float32, shape=[None])"
      ],
      "metadata": {
        "id": "Mby6cwViK8Mt"
      },
      "execution_count": 58,
      "outputs": []
    },
    {
      "cell_type": "code",
      "source": [
        "#Crear las variables para los pesos (W) y el sesgo (b) del modelo\n",
        "W = tf.Variable(tf.random.normal([X_train.shape[1], 1]), name='weights')\n",
        "b = tf.Variable(tf.random.normal([1]), name='bias')"
      ],
      "metadata": {
        "id": "rE9RUqt2MNXN"
      },
      "execution_count": 59,
      "outputs": []
    },
    {
      "cell_type": "code",
      "source": [
        "#Defina el modelo de regresión lineal usando la ecuación: y_pred = X * W + b\n",
        "y_pred = tf.matmul(X_placeholder, W) + b"
      ],
      "metadata": {
        "id": "6Tiw_ZezOc4N"
      },
      "execution_count": 60,
      "outputs": []
    },
    {
      "cell_type": "code",
      "source": [
        "#Defina la función de pérdida como el error cuadrático medio entre los valores predichos y los valores verdaderos\n",
        "loss = tf.reduce_mean(tf.square(y_pred - y_placeholder))"
      ],
      "metadata": {
        "id": "wPJYVrlFPrWF"
      },
      "execution_count": 61,
      "outputs": []
    },
    {
      "cell_type": "code",
      "source": [
        "#Elija un optimizador para minimizar la función de pérdida\n",
        "optimizer = tf.optimizers.SGD(learning_rate=0.01)"
      ],
      "metadata": {
        "id": "lW3xs5NlQE9X"
      },
      "execution_count": 62,
      "outputs": []
    },
    {
      "cell_type": "markdown",
      "source": [
        "##Entrenar el modelo"
      ],
      "metadata": {
        "id": "L3Zb2s7VcnaU"
      }
    },
    {
      "cell_type": "code",
      "source": [
        "#Definir el numero de epocas a entrenar y el ratio de aprendizaje\n",
        "num_epochs = 100\n",
        "print_interval = 10"
      ],
      "metadata": {
        "id": "UbBrY6yhhAUk"
      },
      "execution_count": 63,
      "outputs": []
    },
    {
      "cell_type": "code",
      "source": [
        "for epoch in range(1, num_epochs + 1):\n",
        "    # Itere a través del conjunto de datos de entrenamiento y actualice los parámetros del modelo usando el optimizador\n",
        "    with tf.GradientTape() as tape:\n",
        "        y_pred = tf.matmul(X_placeholder, W) + b\n",
        "        current_loss = tf.reduce_mean(tf.square(y_pred - y_placeholder))\n",
        "    gradients = tape.gradient(current_loss, [W, b])\n",
        "    optimizer.apply_gradients(zip(gradients, [W, b]))\n",
        "\n",
        "    # Imprimir el training loss de los intervalos regulares\n",
        "    if epoch % print_interval == 0:\n",
        "        # Imprimir el valor numérico\n",
        "        print(\"Epoch:\", epoch, \"Loss:\", current_loss)"
      ],
      "metadata": {
        "colab": {
          "base_uri": "https://localhost:8080/"
        },
        "id": "VoQshaqMcp-T",
        "outputId": "09ccb56b-4969-4626-a17a-4b29f82786e5"
      },
      "execution_count": 64,
      "outputs": [
        {
          "output_type": "stream",
          "name": "stdout",
          "text": [
            "Epoch: 10 Loss: Tensor(\"Mean_513:0\", shape=(), dtype=float32)\n",
            "Epoch: 20 Loss: Tensor(\"Mean_523:0\", shape=(), dtype=float32)\n",
            "Epoch: 30 Loss: Tensor(\"Mean_533:0\", shape=(), dtype=float32)\n",
            "Epoch: 40 Loss: Tensor(\"Mean_543:0\", shape=(), dtype=float32)\n",
            "Epoch: 50 Loss: Tensor(\"Mean_553:0\", shape=(), dtype=float32)\n",
            "Epoch: 60 Loss: Tensor(\"Mean_563:0\", shape=(), dtype=float32)\n",
            "Epoch: 70 Loss: Tensor(\"Mean_573:0\", shape=(), dtype=float32)\n",
            "Epoch: 80 Loss: Tensor(\"Mean_583:0\", shape=(), dtype=float32)\n",
            "Epoch: 90 Loss: Tensor(\"Mean_593:0\", shape=(), dtype=float32)\n",
            "Epoch: 100 Loss: Tensor(\"Mean_603:0\", shape=(), dtype=float32)\n"
          ]
        }
      ]
    },
    {
      "cell_type": "markdown",
      "source": [
        "##Evaluar el modelo"
      ],
      "metadata": {
        "id": "wDJG2R7UuLpy"
      }
    }
  ]
}