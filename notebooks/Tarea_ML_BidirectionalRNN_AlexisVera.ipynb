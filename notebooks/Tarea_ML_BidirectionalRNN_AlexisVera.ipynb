{
  "cells": [
    {
      "cell_type": "markdown",
      "source": [
        "#Tarea Machine Learning"
      ],
      "metadata": {
        "id": "gjSBwWTXopam"
      }
    },
    {
      "cell_type": "markdown",
      "source": [
        "##Ejercicio de RNN usando BidirectionalRNN realizando los siguientes cambios en la aquitectura\n",
        "\n"
      ],
      "metadata": {
        "id": "U3IaGanNopSI"
      }
    },
    {
      "cell_type": "markdown",
      "source": [
        "Cambios realizados:\n",
        "- Modificar la importacion de pad_sequences por un problema de compatibilidad\n",
        "- Aumentar el batch_size a 200"
      ],
      "metadata": {
        "id": "9FXapA5zo7Sm"
      }
    },
    {
      "cell_type": "code",
      "execution_count": 17,
      "metadata": {
        "collapsed": true,
        "id": "je5tjDUJkr-V"
      },
      "outputs": [],
      "source": [
        "from keras.datasets import imdb\n",
        "from keras.preprocessing import sequence\n",
        "from tensorflow.keras.preprocessing.sequence import pad_sequences\n",
        "from keras.models import Sequential\n",
        "from keras.layers import Embedding, SimpleRNN, Dense, Bidirectional"
      ]
    },
    {
      "cell_type": "markdown",
      "source": [
        "1. Load the IMDB movie reviews dataset"
      ],
      "metadata": {
        "collapsed": false,
        "id": "yf9JVd2Dkr-W"
      }
    },
    {
      "cell_type": "code",
      "execution_count": 18,
      "outputs": [],
      "source": [
        "max_features = 5000  # Number of words to consider as features\n",
        "max_len_short = 100  # Maximum sequence length for short sequences\n",
        "max_len_long = 500   # Maximum sequence length for long sequences\n",
        "\n",
        "(x_train, y_train), (x_test, y_test) = imdb.load_data(num_words=max_features)"
      ],
      "metadata": {
        "id": "6QCIyYfMkr-W"
      }
    },
    {
      "cell_type": "markdown",
      "source": [
        "2. Pad sequences to a fixed length for RNN input"
      ],
      "metadata": {
        "collapsed": false,
        "id": "1vajFCk1kr-W"
      }
    },
    {
      "cell_type": "code",
      "execution_count": 19,
      "outputs": [],
      "source": [
        "x_train_short = pad_sequences(x_train, maxlen=max_len_short)\n",
        "x_test_short = pad_sequences(x_test, maxlen=max_len_short)\n",
        "\n",
        "x_train_long = pad_sequences(x_train, maxlen=max_len_long)\n",
        "x_test_long = pad_sequences(x_test, maxlen=max_len_long)"
      ],
      "metadata": {
        "id": "1vIjGlMnkr-W"
      }
    },
    {
      "cell_type": "markdown",
      "source": [
        "3. Build the Bidirectional RNN models"
      ],
      "metadata": {
        "collapsed": false,
        "id": "eCIvsX-Hkr-X"
      }
    },
    {
      "cell_type": "code",
      "execution_count": 20,
      "outputs": [],
      "source": [
        "def build_bidirectional_rnn_model():\n",
        "    model = Sequential()\n",
        "    model.add(Embedding(max_features, 32))\n",
        "    model.add(Bidirectional(SimpleRNN(32, activation='relu')))\n",
        "    model.add(Dense(1, activation='sigmoid'))\n",
        "    return model"
      ],
      "metadata": {
        "id": "FbxW7R-fkr-X"
      }
    },
    {
      "cell_type": "markdown",
      "source": [
        "4. Train and evaluate the RNN model"
      ],
      "metadata": {
        "collapsed": false,
        "id": "WAHU6bM0kr-X"
      }
    },
    {
      "cell_type": "code",
      "execution_count": 21,
      "outputs": [],
      "source": [
        "def train_and_evaluate_model(model, x_train, y_train, x_test, y_test):\n",
        "    model.compile(optimizer='adam', loss='binary_crossentropy', metrics=['accuracy'])\n",
        "    history = model.fit(x_train, y_train, epochs=5, batch_size=200, validation_split=0.2)\n",
        "    loss, accuracy = model.evaluate(x_test, y_test)\n",
        "    return loss, accuracy, history"
      ],
      "metadata": {
        "id": "woiYllD4kr-X"
      }
    },
    {
      "cell_type": "markdown",
      "source": [
        "5. Train and evaluate the RNN model on short sequences"
      ],
      "metadata": {
        "collapsed": false,
        "id": "BgT2agK7kr-X"
      }
    },
    {
      "cell_type": "code",
      "execution_count": 22,
      "outputs": [
        {
          "output_type": "stream",
          "name": "stdout",
          "text": [
            "\n",
            "Training RNN model on short sequences:\n",
            "Epoch 1/5\n",
            "100/100 [==============================] - 35s 313ms/step - loss: 0.6640 - accuracy: 0.6056 - val_loss: 0.5719 - val_accuracy: 0.7662\n",
            "Epoch 2/5\n",
            "100/100 [==============================] - 23s 235ms/step - loss: 0.4305 - accuracy: 0.8170 - val_loss: 0.3928 - val_accuracy: 0.8232\n",
            "Epoch 3/5\n",
            "100/100 [==============================] - 19s 192ms/step - loss: 0.2993 - accuracy: 0.8728 - val_loss: 0.3429 - val_accuracy: 0.8474\n",
            "Epoch 4/5\n",
            "100/100 [==============================] - 18s 181ms/step - loss: 0.2491 - accuracy: 0.9006 - val_loss: 0.3575 - val_accuracy: 0.8416\n",
            "Epoch 5/5\n",
            "100/100 [==============================] - 17s 168ms/step - loss: 0.2110 - accuracy: 0.9190 - val_loss: 0.3788 - val_accuracy: 0.8318\n",
            "782/782 [==============================] - 15s 19ms/step - loss: 0.3842 - accuracy: 0.8381\n"
          ]
        }
      ],
      "source": [
        "print(\"\\nTraining Bidirectional RNN model on short sequences:\")\n",
        "rnn_model_short = build_bidirectional_rnn_model()\n",
        "loss_short, accuracy_short, history_short = train_and_evaluate_model(\n",
        "    rnn_model_short, x_train_short, y_train, x_test_short, y_test\n",
        ")"
      ],
      "metadata": {
        "colab": {
          "base_uri": "https://localhost:8080/"
        },
        "id": "p4nK1NY0kr-X",
        "outputId": "be1f90ec-39be-4e70-ffee-7ac893d8a96c"
      }
    },
    {
      "cell_type": "markdown",
      "source": [
        "6. Train and evaluate the RNN model on long sequences"
      ],
      "metadata": {
        "collapsed": false,
        "id": "wLiXnpyWkr-Y"
      }
    },
    {
      "cell_type": "code",
      "execution_count": 23,
      "outputs": [
        {
          "output_type": "stream",
          "name": "stdout",
          "text": [
            "\n",
            "Training Elman RNN model on long sequences:\n",
            "Epoch 1/5\n",
            "100/100 [==============================] - 91s 889ms/step - loss: 0.6519 - accuracy: 0.6092 - val_loss: 0.5344 - val_accuracy: 0.7582\n",
            "Epoch 2/5\n",
            "100/100 [==============================] - 83s 834ms/step - loss: 0.4742 - accuracy: 0.7895 - val_loss: 0.4715 - val_accuracy: 0.7910\n",
            "Epoch 3/5\n",
            "100/100 [==============================] - 82s 817ms/step - loss: 0.3690 - accuracy: 0.8507 - val_loss: 0.3641 - val_accuracy: 0.8510\n",
            "Epoch 4/5\n",
            "100/100 [==============================] - 76s 760ms/step - loss: 0.3104 - accuracy: 0.8742 - val_loss: 0.3754 - val_accuracy: 0.8356\n",
            "Epoch 5/5\n",
            "100/100 [==============================] - 77s 767ms/step - loss: 0.2531 - accuracy: 0.9006 - val_loss: 0.3627 - val_accuracy: 0.8466\n",
            "782/782 [==============================] - 65s 82ms/step - loss: 0.3652 - accuracy: 0.8460\n"
          ]
        }
      ],
      "source": [
        "print(\"\\nTraining Bidirectional RNN model on long sequences:\")\n",
        "rnn_model_long = build_bidirectional_rnn_model()\n",
        "loss_long, accuracy_long, history_long = train_and_evaluate_model(\n",
        "    rnn_model_long, x_train_long, y_train, x_test_long, y_test\n",
        ")"
      ],
      "metadata": {
        "colab": {
          "base_uri": "https://localhost:8080/"
        },
        "id": "YYwzONNXkr-Y",
        "outputId": "98c53410-bdcc-4d85-900f-2aa9630ed2f1"
      }
    },
    {
      "cell_type": "markdown",
      "source": [
        "7. Compare the results"
      ],
      "metadata": {
        "collapsed": false,
        "id": "TOpJnQ2Bkr-Y"
      }
    },
    {
      "cell_type": "code",
      "execution_count": 24,
      "outputs": [
        {
          "output_type": "stream",
          "name": "stdout",
          "text": [
            "\n",
            "Results on Short Sequences:\n",
            "Loss: 0.3842, Accuracy: 0.8381\n",
            "\n",
            "Results on Long Sequences:\n",
            "Loss: 0.3652, Accuracy: 0.8460\n"
          ]
        }
      ],
      "source": [
        "print(\"\\nResults on Short Sequences:\")\n",
        "print(f\"Loss: {loss_short:.4f}, Accuracy: {accuracy_short:.4f}\")\n",
        "\n",
        "print(\"\\nResults on Long Sequences:\")\n",
        "print(f\"Loss: {loss_long:.4f}, Accuracy: {accuracy_long:.4f}\")"
      ],
      "metadata": {
        "colab": {
          "base_uri": "https://localhost:8080/"
        },
        "id": "4b428gIHkr-Z",
        "outputId": "f23f9090-8382-43f9-aff5-7c5a6ac3ee94"
      }
    }
  ],
  "metadata": {
    "kernelspec": {
      "display_name": "Python 3",
      "name": "python3"
    },
    "language_info": {
      "codemirror_mode": {
        "name": "ipython",
        "version": 2
      },
      "file_extension": ".py",
      "mimetype": "text/x-python",
      "name": "python",
      "nbconvert_exporter": "python",
      "pygments_lexer": "ipython2",
      "version": "2.7.6"
    },
    "colab": {
      "provenance": [],
      "gpuType": "T4"
    },
    "accelerator": "GPU"
  },
  "nbformat": 4,
  "nbformat_minor": 0
}