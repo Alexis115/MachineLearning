{
  "cells": [
    {
      "cell_type": "markdown",
      "source": [
        "##Tarea Machine Learning"
      ],
      "metadata": {
        "id": "uniBO_MUrZjO"
      }
    },
    {
      "cell_type": "markdown",
      "source": [
        "##Ejercicio de RNN usando JordanRNN realizando los siguientes cambios en la aquitectura"
      ],
      "metadata": {
        "id": "0LFDwuOhrZc_"
      }
    },
    {
      "cell_type": "markdown",
      "source": [
        "Cambios realizados:\n",
        "- Modificar la importacion de pad_sequences por un problema de compatibilidad\n",
        "- Reducir el batch_size a 100"
      ],
      "metadata": {
        "id": "kuC3xbQXsxUW"
      }
    },
    {
      "cell_type": "code",
      "execution_count": 1,
      "metadata": {
        "collapsed": true,
        "id": "uqYQ8ZqJrVJq"
      },
      "outputs": [],
      "source": [
        "from keras.datasets import imdb\n",
        "from keras.preprocessing import sequence\n",
        "from tensorflow.keras.preprocessing.sequence import pad_sequences\n",
        "from keras.models import Sequential\n",
        "from keras.layers import Embedding, SimpleRNN, Dense, Bidirectional, GlobalMaxPooling1D"
      ]
    },
    {
      "cell_type": "markdown",
      "source": [
        "1. Load the IMDB movie reviews dataset"
      ],
      "metadata": {
        "collapsed": false,
        "id": "kMpTVpLPrVJr"
      }
    },
    {
      "cell_type": "code",
      "execution_count": 2,
      "outputs": [
        {
          "output_type": "stream",
          "name": "stdout",
          "text": [
            "Downloading data from https://storage.googleapis.com/tensorflow/tf-keras-datasets/imdb.npz\n",
            "17464789/17464789 [==============================] - 2s 0us/step\n"
          ]
        }
      ],
      "source": [
        "max_features = 5000  # Number of words to consider as features\n",
        "max_len_short = 100  # Maximum sequence length for short sequences\n",
        "max_len_long = 500   # Maximum sequence length for long sequences\n",
        "\n",
        "(x_train, y_train), (x_test, y_test) = imdb.load_data(num_words=max_features)"
      ],
      "metadata": {
        "colab": {
          "base_uri": "https://localhost:8080/"
        },
        "id": "Hh4z_6lvrVJr",
        "outputId": "056b2a43-a8f2-4592-d7bc-a6571706364e"
      }
    },
    {
      "cell_type": "markdown",
      "source": [
        "2. Pad sequences to a fixed length for RNN input"
      ],
      "metadata": {
        "collapsed": false,
        "id": "8OjggTlTrVJs"
      }
    },
    {
      "cell_type": "code",
      "execution_count": 3,
      "outputs": [],
      "source": [
        "x_train_short = pad_sequences(x_train, maxlen=max_len_short)\n",
        "x_test_short = pad_sequences(x_test, maxlen=max_len_short)\n",
        "\n",
        "x_train_long = pad_sequences(x_train, maxlen=max_len_long)\n",
        "x_test_long = pad_sequences(x_test, maxlen=max_len_long)"
      ],
      "metadata": {
        "id": "nUouDjJnrVJs"
      }
    },
    {
      "cell_type": "markdown",
      "source": [
        "3. Build the Jordan RNN models"
      ],
      "metadata": {
        "collapsed": false,
        "id": "OR78ZkmIrVJs"
      }
    },
    {
      "cell_type": "code",
      "execution_count": 4,
      "outputs": [],
      "source": [
        "def build_jordan_rnn_model():\n",
        "    model = Sequential()\n",
        "    model.add(Embedding(max_features, 32))\n",
        "    model.add(SimpleRNN(32, activation='relu', return_sequences=True))\n",
        "    model.add(GlobalMaxPooling1D())\n",
        "    model.add(Dense(1, activation='sigmoid'))\n",
        "    return model"
      ],
      "metadata": {
        "id": "-s0B96UirVJs"
      }
    },
    {
      "cell_type": "markdown",
      "source": [
        "4. Train and evaluate the RNN model"
      ],
      "metadata": {
        "collapsed": false,
        "id": "Qa8p7f36rVJs"
      }
    },
    {
      "cell_type": "code",
      "execution_count": 5,
      "outputs": [],
      "source": [
        "def train_and_evaluate_model(model, x_train, y_train, x_test, y_test):\n",
        "    model.compile(optimizer='adam', loss='binary_crossentropy', metrics=['accuracy'])\n",
        "    history = model.fit(x_train, y_train, epochs=5, batch_size=100, validation_split=0.2)\n",
        "    loss, accuracy = model.evaluate(x_test, y_test)\n",
        "    return loss, accuracy, history"
      ],
      "metadata": {
        "id": "W1Af0zlqrVJt"
      }
    },
    {
      "cell_type": "markdown",
      "source": [
        "5. Train and evaluate the RNN model on short sequences"
      ],
      "metadata": {
        "collapsed": false,
        "id": "So57FibyrVJt"
      }
    },
    {
      "cell_type": "code",
      "execution_count": 6,
      "outputs": [
        {
          "output_type": "stream",
          "name": "stdout",
          "text": [
            "\n",
            "Training Jordan RNN model on short sequences:\n",
            "Epoch 1/5\n",
            "200/200 [==============================] - 45s 195ms/step - loss: 0.5853 - accuracy: 0.7292 - val_loss: 0.4586 - val_accuracy: 0.8070\n",
            "Epoch 2/5\n",
            "200/200 [==============================] - 25s 128ms/step - loss: 0.3648 - accuracy: 0.8429 - val_loss: 0.3642 - val_accuracy: 0.8400\n",
            "Epoch 3/5\n",
            "200/200 [==============================] - 22s 112ms/step - loss: 0.2796 - accuracy: 0.8870 - val_loss: 0.3615 - val_accuracy: 0.8418\n",
            "Epoch 4/5\n",
            "200/200 [==============================] - 19s 95ms/step - loss: 0.2325 - accuracy: 0.9098 - val_loss: 0.3839 - val_accuracy: 0.8372\n",
            "Epoch 5/5\n",
            "200/200 [==============================] - 21s 104ms/step - loss: 0.1918 - accuracy: 0.9291 - val_loss: 0.4409 - val_accuracy: 0.8300\n",
            "782/782 [==============================] - 10s 12ms/step - loss: 0.4465 - accuracy: 0.8265\n"
          ]
        }
      ],
      "source": [
        "print(\"\\nTraining Jordan RNN model on short sequences:\")\n",
        "rnn_model_short = build_jordan_rnn_model()\n",
        "loss_short, accuracy_short, history_short = train_and_evaluate_model(\n",
        "    rnn_model_short, x_train_short, y_train, x_test_short, y_test\n",
        ")"
      ],
      "metadata": {
        "colab": {
          "base_uri": "https://localhost:8080/"
        },
        "id": "9u-_Cy1prVJt",
        "outputId": "2946aa6d-37b7-4fe7-f352-b8b18bd50a82"
      }
    },
    {
      "cell_type": "markdown",
      "source": [
        "6. Train and evaluate the RNN model on long sequences"
      ],
      "metadata": {
        "collapsed": false,
        "id": "TN6RJUC4rVJu"
      }
    },
    {
      "cell_type": "code",
      "execution_count": 7,
      "outputs": [
        {
          "output_type": "stream",
          "name": "stdout",
          "text": [
            "\n",
            "Training Jordan RNN model on long sequences:\n",
            "Epoch 1/5\n",
            "200/200 [==============================] - 117s 577ms/step - loss: 0.5949 - accuracy: 0.7328 - val_loss: 0.4540 - val_accuracy: 0.8078\n",
            "Epoch 2/5\n",
            "200/200 [==============================] - 103s 516ms/step - loss: 0.3744 - accuracy: 0.8428 - val_loss: 0.3194 - val_accuracy: 0.8602\n",
            "Epoch 3/5\n",
            "200/200 [==============================] - 96s 482ms/step - loss: 0.2728 - accuracy: 0.8874 - val_loss: 0.2846 - val_accuracy: 0.8810\n",
            "Epoch 4/5\n",
            "200/200 [==============================] - 93s 466ms/step - loss: 0.2048 - accuracy: 0.9201 - val_loss: 0.2876 - val_accuracy: 0.8814\n",
            "Epoch 5/5\n",
            "200/200 [==============================] - 93s 467ms/step - loss: 0.1640 - accuracy: 0.9411 - val_loss: 0.3032 - val_accuracy: 0.8812\n",
            "782/782 [==============================] - 38s 49ms/step - loss: 0.3321 - accuracy: 0.8701\n"
          ]
        }
      ],
      "source": [
        "print(\"\\nTraining Jordan RNN model on long sequences:\")\n",
        "rnn_model_long = build_jordan_rnn_model()\n",
        "loss_long, accuracy_long, history_long = train_and_evaluate_model(\n",
        "    rnn_model_long, x_train_long, y_train, x_test_long, y_test\n",
        ")"
      ],
      "metadata": {
        "colab": {
          "base_uri": "https://localhost:8080/"
        },
        "id": "6_muVeDsrVJu",
        "outputId": "dfb23678-afb2-4bec-d5f7-7face81496a2"
      }
    },
    {
      "cell_type": "markdown",
      "source": [
        "7. Compare the results"
      ],
      "metadata": {
        "collapsed": false,
        "id": "RIrB-50trVJu"
      }
    },
    {
      "cell_type": "code",
      "execution_count": 8,
      "outputs": [
        {
          "output_type": "stream",
          "name": "stdout",
          "text": [
            "\n",
            "Results on Short Sequences:\n",
            "Loss: 0.4465, Accuracy: 0.8265\n",
            "\n",
            "Results on Long Sequences:\n",
            "Loss: 0.3321, Accuracy: 0.8701\n"
          ]
        }
      ],
      "source": [
        "print(\"\\nResults on Short Sequences:\")\n",
        "print(f\"Loss: {loss_short:.4f}, Accuracy: {accuracy_short:.4f}\")\n",
        "\n",
        "print(\"\\nResults on Long Sequences:\")\n",
        "print(f\"Loss: {loss_long:.4f}, Accuracy: {accuracy_long:.4f}\")"
      ],
      "metadata": {
        "colab": {
          "base_uri": "https://localhost:8080/"
        },
        "id": "SXAL1tEIrVJu",
        "outputId": "6fc9f1ed-e85c-404d-995a-48df2ef7a579"
      }
    }
  ],
  "metadata": {
    "kernelspec": {
      "display_name": "Python 3",
      "name": "python3"
    },
    "language_info": {
      "codemirror_mode": {
        "name": "ipython",
        "version": 2
      },
      "file_extension": ".py",
      "mimetype": "text/x-python",
      "name": "python",
      "nbconvert_exporter": "python",
      "pygments_lexer": "ipython2",
      "version": "2.7.6"
    },
    "colab": {
      "provenance": [],
      "gpuType": "T4"
    },
    "accelerator": "GPU"
  },
  "nbformat": 4,
  "nbformat_minor": 0
}